{
 "cells": [
  {
   "cell_type": "markdown",
   "metadata": {},
   "source": [
    "## Proyecto 1 - Aprendizaje Automático\n",
    "### Integrantes:\n",
    "- A. Badilla Olivas B80874\n",
    "- Enrique Vilchez Lizano C18477\n",
    "- Brandon Mora Umaña \n",
    "- Joseph Valverde Kong C18100"
   ]
  },
  {
   "cell_type": "code",
   "execution_count": null,
   "metadata": {},
   "outputs": [],
   "source": [
    "# Import necessary modules\n",
    "import numpy as np\n",
    "\n",
    "# Models\n",
    "from sklearn.neural_network import MLPClassifier\n",
    "from sklearn.neighbors import KNeighborsClassifier\n",
    "from sklearn.tree import DecisionTreeClassifier\n",
    "from sklearn.linear_model import LogisticRegression\n",
    "\n",
    "# Data handling\n",
    "import pandas as pd\n",
    "\n",
    "# Preprocessing tools\n",
    "from sklearn.compose import ColumnTransformer\n",
    "from sklearn.preprocessing import StandardScaler, OrdinalEncoder\n",
    "\n",
    "# Metrics\n",
    "from sklearn.metrics import accuracy_score, precision_score, recall_score, roc_auc_score\n",
    "\n",
    "# Model selection tools\n",
    "from sklearn.model_selection import GridSearchCV, train_test_split"
   ]
  },
  {
   "cell_type": "code",
   "execution_count": null,
   "metadata": {},
   "outputs": [],
   "source": [
    "def make_grid_search(\n",
    "    model: object, search_space: dict, X: pd.DataFrame, Y: pd.Series, verbose: int = 1\n",
    ") -> tuple:\n",
    "    \"\"\"\n",
    "    Perform grid search to find the best hyperparameters for a given model.\n",
    "\n",
    "    Parameters:\n",
    "    model (object): The machine learning model from the sci kit learn library to be used for grid search.\n",
    "    search_space (dict): The hyperparameter search space.\n",
    "    X (pd.DataFrame): The input features.\n",
    "    Y (pd.Series): The target variable.\n",
    "    verbose (int, optional): Verbosity level. Default is 1.\n",
    "\n",
    "    Returns:\n",
    "    tuple: A tuple containing the best score, best parameters, and the results of the grid search.\n",
    "\n",
    "    \"\"\"\n",
    "    grid_search = GridSearchCV(\n",
    "        estimator=model,\n",
    "        param_grid=search_space,\n",
    "        scoring=[\"accuracy\", \"precision\", \"recall\", \"roc_auc\"],\n",
    "        refit=\"roc_auc\",\n",
    "        cv=5,\n",
    "        verbose=verbose,\n",
    "    )\n",
    "\n",
    "    grid_search.fit(X, Y)\n",
    "    results = pd.DataFrame(grid_search.cv_results_)\n",
    "    return grid_search.best_score_, grid_search.best_params_, results"
   ]
  },
  {
   "cell_type": "markdown",
   "metadata": {},
   "source": [
    "# Wine Quality Dataset"
   ]
  },
  {
   "cell_type": "markdown",
   "metadata": {},
   "source": [
    "## Dataset Preparation"
   ]
  },
  {
   "cell_type": "code",
   "execution_count": null,
   "metadata": {},
   "outputs": [],
   "source": [
    "# read and explore the dataset\n",
    "wine_data = pd.read_csv(\"datasets/winequality_red.csv\")"
   ]
  },
  {
   "cell_type": "code",
   "execution_count": null,
   "metadata": {},
   "outputs": [],
   "source": [
    "wine_data.head()"
   ]
  },
  {
   "cell_type": "code",
   "execution_count": null,
   "metadata": {},
   "outputs": [],
   "source": [
    "wine_data.describe()"
   ]
  },
  {
   "cell_type": "code",
   "execution_count": null,
   "metadata": {},
   "outputs": [],
   "source": [
    "wine_data.corr()"
   ]
  },
  {
   "cell_type": "code",
   "execution_count": null,
   "metadata": {},
   "outputs": [],
   "source": [
    "# Remove rows with empty data on the label\n",
    "wine_data.dropna(axis=0, subset=[\"quality\"], inplace=True)\n",
    "\n",
    "# Separate data\n",
    "y_wine = wine_data[\"quality\"]\n",
    "X_wine = wine_data.drop(columns=[\"quality\"])\n",
    "X_wine.describe()\n",
    "\n",
    "# Modify quality labels to 1 or 0\n",
    "y_wine = y_wine.apply(lambda x: 1 if x > 6 else 0)\n",
    "y_wine = y_wine.values\n",
    "\n",
    "# Scale the data\n",
    "normalizer = StandardScaler()\n",
    "X_wine_normalized = pd.DataFrame(normalizer.fit_transform(X_wine))\n",
    "# after we transform the data, we should put back the column names\n",
    "X_wine_normalized.columns = X_wine.columns.astype(str)"
   ]
  },
  {
   "cell_type": "markdown",
   "metadata": {},
   "source": [
    "## Logistic Regression"
   ]
  },
  {
   "cell_type": "code",
   "execution_count": null,
   "metadata": {},
   "outputs": [],
   "source": [
    "# Parameters selection\n",
    "search_space_log = {\n",
    "    \"fit_intercept\": [True, False],  # Add bias constant or not\n",
    "    \"solver\": [\"lbfgs\", \"liblinear\", \"newton-cholesky\", \"newton-cg\", \"sag\", \"saga\"],\n",
    "    \"max_iter\": [1, 5, 10, 30, 50, 100],\n",
    "}\n",
    "\n",
    "log_classifier = LogisticRegression(random_state=1)\n",
    "best_log_score, best_log_params, results_log = make_grid_search(\n",
    "    model=log_classifier, search_space=search_space_log, X=X_wine_normalized, Y=y_wine\n",
    ")"
   ]
  },
  {
   "cell_type": "code",
   "execution_count": null,
   "metadata": {},
   "outputs": [],
   "source": [
    "print(\"Tuned hyperparameters (best parameters): \", best_log_params)\n",
    "print(\"Best score:\", best_log_score)"
   ]
  },
  {
   "cell_type": "markdown",
   "metadata": {},
   "source": [
    "## Decision Trees"
   ]
  },
  {
   "cell_type": "code",
   "execution_count": null,
   "metadata": {},
   "outputs": [],
   "source": [
    "# Parameters selection\n",
    "search_space_tree = {\n",
    "    \"criterion\": [\"gini\", \"entropy\", \"log_loss\"],  # Loss criteria\n",
    "    \"splitter\": [\"best\", \"random\"],  # Type of split for the nodes\n",
    "    \"max_depth\": [1, 5, 10, 30, 50, 100],  # Maxiumun tree depth\n",
    "    \"min_samples_split\": [\n",
    "        1,\n",
    "        2,\n",
    "        5,\n",
    "        10,\n",
    "    ],  # Minimun number of samples needed to split a node\n",
    "}\n",
    "\n",
    "tree_classifier = DecisionTreeClassifier(random_state=1)\n",
    "best_tree_score, best_tree_params, tree_results = make_grid_search(\n",
    "    model=tree_classifier, search_space=search_space_tree, X=X_wine_normalized, Y=y_wine\n",
    ")"
   ]
  },
  {
   "cell_type": "code",
   "execution_count": null,
   "metadata": {},
   "outputs": [],
   "source": [
    "print(\"Tuned hyperparameters (best parameters): \", best_tree_params)\n",
    "print(\"Best score :\", best_tree_score)"
   ]
  },
  {
   "cell_type": "markdown",
   "metadata": {},
   "source": [
    "## kNN"
   ]
  },
  {
   "cell_type": "code",
   "execution_count": null,
   "metadata": {},
   "outputs": [],
   "source": [
    "knn_search_space = {\n",
    "    \"n_neighbors\": [3, 5, 7, 9, 11],\n",
    "    \"weights\": [\"uniform\", \"distance\"],\n",
    "    \"algorithm\": [\"ball_tree\", \"kd_tree\", \"brute\"],\n",
    "    \"p\": [1, 2],\n",
    "}\n",
    "\n",
    "knn_classifier = KNeighborsClassifier()\n",
    "\n",
    "best_knn_score, best_knn_params, results_knn = make_grid_search(\n",
    "    model=knn_classifier, search_space=knn_search_space, X=X_wine_normalized, Y=y_wine\n",
    ")"
   ]
  },
  {
   "cell_type": "code",
   "execution_count": null,
   "metadata": {},
   "outputs": [],
   "source": [
    "print(\"Tuned hyperparameters (best parameters): \", best_knn_params)\n",
    "print(\"Best score :\", best_knn_score)"
   ]
  },
  {
   "cell_type": "markdown",
   "metadata": {},
   "source": [
    "## Neural Network"
   ]
  },
  {
   "cell_type": "code",
   "execution_count": null,
   "metadata": {},
   "outputs": [],
   "source": [
    "# Parameters selection\n",
    "search_space_mlp = {\n",
    "    \"activation\": [\"identity\", \"logistic\", \"tanh\", \"relu\"],\n",
    "    \"solver\": [\"lbfgs\", \"sgd\", \"adams\"],\n",
    "    \"learning_rate\": [\"constant\", \"invscaling\", \"adaptive\"],\n",
    "    \"warm_start\": [True, False],\n",
    "    \"early_stopping\": [True, False],\n",
    "}\n",
    "\n",
    "mlp_classifier = MLPClassifier(random_state=1)\n",
    "best_mlp_score, best_mlp_params, mlp_results = make_grid_search(\n",
    "    model=mlp_classifier, search_space=search_space_mlp, X=X_wine_normalized, Y=y_wine\n",
    ")"
   ]
  },
  {
   "cell_type": "code",
   "execution_count": null,
   "metadata": {},
   "outputs": [],
   "source": [
    "print(\"Tuned hyperparameters (best parameters): \", best_mlp_params)\n",
    "print(\"Best score :\", best_mlp_score)"
   ]
  },
  {
   "cell_type": "markdown",
   "metadata": {},
   "source": [
    "# Credit Card Dataset"
   ]
  },
  {
   "cell_type": "markdown",
   "metadata": {},
   "source": [
    "## Dataset Preparation"
   ]
  },
  {
   "cell_type": "code",
   "execution_count": null,
   "metadata": {},
   "outputs": [],
   "source": [
    "# Read dataset\n",
    "credit_card_data = pd.read_csv(\"datasets/credit_card_approvals.csv\")\n",
    "credit_card_data.head()\n",
    "\n",
    "# Remove empty rows\n",
    "credit_card_data.dropna(axis=0, subset=[\"Approved\"], inplace=True)\n",
    "\n",
    "# Separate data\n",
    "y_credit = credit_card_data[\"Approved\"]\n",
    "X_credit = credit_card_data.drop(columns=[\"Approved\"])\n",
    "\n",
    "# Get categorical and numerical columns\n",
    "cat_cols = X_credit.select_dtypes(include=\"object\").columns.tolist()\n",
    "num_cols = X_credit.select_dtypes(include=[\"int64\", \"float64\"]).columns.tolist()\n",
    "\n",
    "# Normalize numerical values and transformm categorical ones\n",
    "pipeline = ColumnTransformer(\n",
    "    [\n",
    "        (\"numerical\", StandardScaler(), num_cols),\n",
    "        (\"categorical\", OrdinalEncoder(), cat_cols),\n",
    "    ]\n",
    ")\n",
    "\n",
    "X_credit_normalized = pd.DataFrame(pipeline.fit_transform(X_credit))\n",
    "X_credit_normalized.columns = num_cols + cat_cols"
   ]
  },
  {
   "cell_type": "markdown",
   "metadata": {},
   "source": [
    "## Logistic Regression"
   ]
  },
  {
   "cell_type": "markdown",
   "metadata": {},
   "source": [
    "## Decision Trees"
   ]
  },
  {
   "cell_type": "markdown",
   "metadata": {},
   "source": [
    "## kNN"
   ]
  },
  {
   "cell_type": "markdown",
   "metadata": {},
   "source": [
    "## Neural Network"
   ]
  }
 ],
 "metadata": {
  "kernelspec": {
   "display_name": "Python 3",
   "language": "python",
   "name": "python3"
  },
  "language_info": {
   "codemirror_mode": {
    "name": "ipython",
    "version": 3
   },
   "file_extension": ".py",
   "mimetype": "text/x-python",
   "name": "python",
   "nbconvert_exporter": "python",
   "pygments_lexer": "ipython3",
   "version": "3.12.3"
  }
 },
 "nbformat": 4,
 "nbformat_minor": 2
}
