{
 "cells": [
  {
   "cell_type": "markdown",
   "metadata": {},
   "source": [
    "## Proyecto 1 - Aprendizaje Automático\n",
    "### Integrantes:\n",
    "- A. Badilla Olivas B80874\n",
    "- Enrique Vilchez Lizano C18477\n",
    "- Brandon Mora Umaña \n",
    "- Joseph Valverde Kong C18100"
   ]
  },
  {
   "cell_type": "code",
   "execution_count": null,
   "metadata": {},
   "outputs": [],
   "source": []
  }
 ],
 "metadata": {
  "kernelspec": {
   "display_name": "Python 3",
   "language": "python",
   "name": "python3"
  },
  "language_info": {
   "name": "python",
   "version": "3.12.3"
  }
 },
 "nbformat": 4,
 "nbformat_minor": 2
}
